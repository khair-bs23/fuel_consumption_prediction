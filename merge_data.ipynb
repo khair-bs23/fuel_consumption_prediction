{
 "cells": [
  {
   "cell_type": "code",
   "execution_count": 1,
   "id": "ce1139e6",
   "metadata": {},
   "outputs": [],
   "source": [
    "import os\n",
    "import json\n",
    "import numpy as np\n",
    "import pandas as pd\n",
    "import matplotlib.pyplot as plt\n",
    "import pandas as pd\n",
    "from sklearn.model_selection import train_test_split\n",
    "from sklearn.ensemble import RandomForestRegressor\n",
    "from sklearn.metrics import mean_squared_error, r2_score\n",
    "\n"
   ]
  },
  {
   "cell_type": "code",
   "execution_count": null,
   "id": "1b4e71cf",
   "metadata": {},
   "outputs": [],
   "source": [
    "\n",
    "folder_path = \"tests_consumption\"\n",
    "\n",
    "json_data = []\n",
    "\n",
    "for root, dirs, files in os.walk(folder_path):\n",
    "   \n",
    "    tractor_info = {}\n",
    "\n",
    "\n",
    "    for file in files:\n",
    "        if file.endswith(\"info.json\"):  \n",
    "            tractor_info_path = os.path.join(root, file)\n",
    "            with open(tractor_info_path, \"r\") as f:\n",
    "                tractor_info = json.load(f)\n",
    "            break  \n",
    "\n",
    "\n",
    "    for file in files:\n",
    "        if file.endswith(\"data.json\"):\n",
    "            file_path = os.path.join(root, file)\n",
    "            with open(file_path, \"r\") as f:\n",
    "                data = json.load(f)\n",
    "        \n",
    "                for entry in data:\n",
    "                    entry.update(tractor_info)\n",
    "                \n",
    "                json_data.extend(data)\n",
    "\n",
    "# Create DataFrame\n",
    "df = pd.DataFrame(json_data)"
   ]
  },
  {
   "cell_type": "code",
   "execution_count": null,
   "id": "3449896f",
   "metadata": {},
   "outputs": [],
   "source": [
    "df.head()"
   ]
  },
  {
   "cell_type": "code",
   "execution_count": null,
   "id": "8b8bd5f3",
   "metadata": {},
   "outputs": [],
   "source": [
    "df['_id'] = df['_id'].astype(str)\n",
    "data_cols = pd.json_normalize(df['data']).add_prefix('data_')"
   ]
  },
  {
   "cell_type": "code",
   "execution_count": null,
   "id": "e53e0f2e",
   "metadata": {},
   "outputs": [],
   "source": [
    "df = pd.concat([df, data_cols], axis=1) "
   ]
  },
  {
   "cell_type": "code",
   "execution_count": null,
   "id": "700fa31a",
   "metadata": {},
   "outputs": [],
   "source": [
    "df.drop(columns=['data'], inplace=True)"
   ]
  },
  {
   "cell_type": "code",
   "execution_count": null,
   "id": "cac281e5",
   "metadata": {},
   "outputs": [],
   "source": [
    "# main_df = pd.read_csv('ana_balan.csv')"
   ]
  },
  {
   "cell_type": "code",
   "execution_count": null,
   "id": "2146ed6a",
   "metadata": {},
   "outputs": [],
   "source": []
  },
  {
   "cell_type": "code",
   "execution_count": null,
   "id": "00d345c7",
   "metadata": {},
   "outputs": [],
   "source": []
  }
 ],
 "metadata": {
  "kernelspec": {
   "display_name": "Python 3 (ipykernel)",
   "language": "python",
   "name": "python3"
  },
  "language_info": {
   "codemirror_mode": {
    "name": "ipython",
    "version": 3
   },
   "file_extension": ".py",
   "mimetype": "text/x-python",
   "name": "python",
   "nbconvert_exporter": "python",
   "pygments_lexer": "ipython3",
   "version": "3.11.7"
  }
 },
 "nbformat": 4,
 "nbformat_minor": 5
}
